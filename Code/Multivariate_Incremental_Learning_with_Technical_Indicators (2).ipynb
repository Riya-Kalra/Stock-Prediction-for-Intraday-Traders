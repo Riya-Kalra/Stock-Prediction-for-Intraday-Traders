{
  "cells": [
    {
      "cell_type": "code",
      "execution_count": null,
      "metadata": {
        "colab": {
          "base_uri": "https://localhost:8080/"
        },
        "id": "F93nkjKnLzT6",
        "outputId": "8b28a79c-6f5a-43be-9f69-9ca669a14b07"
      },
      "outputs": [
        {
          "output_type": "stream",
          "name": "stdout",
          "text": [
            "Looking in indexes: https://pypi.org/simple, https://us-python.pkg.dev/colab-wheels/public/simple/\n",
            "Collecting river\n",
            "  Downloading river-0.10.1-cp37-cp37m-manylinux_2_5_x86_64.manylinux1_x86_64.manylinux_2_17_x86_64.manylinux2014_x86_64.whl (2.0 MB)\n",
            "\u001b[K     |████████████████████████████████| 2.0 MB 27.2 MB/s \n",
            "\u001b[?25hRequirement already satisfied: pandas>=1.0.1 in /usr/local/lib/python3.7/dist-packages (from river) (1.3.5)\n",
            "Requirement already satisfied: scipy>=1.4.1 in /usr/local/lib/python3.7/dist-packages (from river) (1.4.1)\n",
            "Requirement already satisfied: numpy>=1.20.0 in /usr/local/lib/python3.7/dist-packages (from river) (1.21.6)\n",
            "Requirement already satisfied: python-dateutil>=2.7.3 in /usr/local/lib/python3.7/dist-packages (from pandas>=1.0.1->river) (2.8.2)\n",
            "Requirement already satisfied: pytz>=2017.3 in /usr/local/lib/python3.7/dist-packages (from pandas>=1.0.1->river) (2022.1)\n",
            "Requirement already satisfied: six>=1.5 in /usr/local/lib/python3.7/dist-packages (from python-dateutil>=2.7.3->pandas>=1.0.1->river) (1.15.0)\n",
            "Installing collected packages: river\n",
            "Successfully installed river-0.10.1\n"
          ]
        }
      ],
      "source": [
        "!pip install river\n"
      ]
    },
    {
      "cell_type": "code",
      "execution_count": null,
      "metadata": {
        "id": "n71xZox7LGzj"
      },
      "outputs": [],
      "source": [
        "# Import libraries\n",
        "import pandas as pd\n",
        "import numpy as np\n",
        "import matplotlib.pyplot as plt\n",
        "%matplotlib inline\n",
        "from river import stream\n",
        "from datetime import datetime"
      ]
    },
    {
      "cell_type": "code",
      "execution_count": null,
      "metadata": {
        "colab": {
          "base_uri": "https://localhost:8080/"
        },
        "id": "FUzIbaTMataF",
        "outputId": "a9ddf767-b592-4968-eae4-240c4018dfb6"
      },
      "outputs": [
        {
          "output_type": "stream",
          "name": "stdout",
          "text": [
            "Mounted at /content/drive/\n"
          ]
        }
      ],
      "source": [
        "#connnecting drive with google colab\n",
        "from google.colab import drive\n",
        "drive.mount('/content/drive/')\n",
        "#read the csv file\n",
        "df_reliance=pd.read_csv('/content/drive/MyDrive/Colab Notebooks/Project/Final_csv/RELIANCE.csv')\n",
        "df_hdfc=pd.read_csv('/content/drive/MyDrive/Colab Notebooks/Project/Final_csv/HDFC.csv')\n",
        "df_tcs=pd.read_csv('/content/drive/MyDrive/Colab Notebooks/Project/Final_csv/TCS.csv')\n",
        "df_HDFCBANK=pd.read_csv('/content/drive/MyDrive/Colab Notebooks/Project/Final_csv/HDFCBANK.csv')\n",
        "df_LT=pd.read_csv('/content/drive/MyDrive/Colab Notebooks/Project/Final_csv/LT.csv')\n",
        "df_INFY=pd.read_csv('/content/drive/MyDrive/Colab Notebooks/Project/Final_csv/INFY.csv')\n",
        "df_KOTAKBANK=pd.read_csv('/content/drive/MyDrive/Colab Notebooks/Project/Final_csv/KOTAKBANK.csv')\n",
        "df_ITC=pd.read_csv('/content/drive/MyDrive/Colab Notebooks/Project/Final_csv/ITC.csv')\n",
        "df_SBIN=pd.read_csv('/content/drive/MyDrive/Colab Notebooks/Project/Final_csv/SBIN.csv')\n",
        "df_ICICIBANK=pd.read_csv('/content/drive/MyDrive/Colab Notebooks/Project/Final_csv/ICICIBANK.csv')\n"
      ]
    },
    {
      "cell_type": "code",
      "execution_count": null,
      "metadata": {
        "id": "Bq1VnRxm4zx-"
      },
      "outputs": [],
      "source": [
        "df_reliance.sort_values(by=[\"Datetime\"], inplace=True, ascending=True)\n",
        "df_hdfc.sort_values(by=[\"Datetime\"], inplace=True, ascending=True)\n",
        "df_tcs.sort_values(by=[\"Datetime\"], inplace=True, ascending=True)\n",
        "df_LT.sort_values(by=[\"Datetime\"], inplace=True, ascending=True)\n",
        "df_HDFCBANK.sort_values(by=[\"Datetime\"], inplace=True, ascending=True)\n",
        "df_INFY.sort_values(by=[\"Datetime\"], inplace=True, ascending=True)\n",
        "df_KOTAKBANK.sort_values(by=[\"Datetime\"], inplace=True, ascending=True)\n",
        "df_ITC.sort_values(by=[\"Datetime\"], inplace=True, ascending=True)\n",
        "df_SBIN.sort_values(by=[\"Datetime\"], inplace=True, ascending=True)\n",
        "df_ICICIBANK.sort_values(by=[\"Datetime\"], inplace=True, ascending=True)\n"
      ]
    },
    {
      "cell_type": "code",
      "execution_count": null,
      "metadata": {
        "id": "I2mYsNtrzM7l"
      },
      "outputs": [],
      "source": [
        "df_reliance.drop_duplicates(keep='first',inplace=True)\n",
        "df_hdfc.drop_duplicates(keep='first',inplace=True)\n",
        "df_tcs.drop_duplicates(keep='first',inplace=True)\n",
        "df_HDFCBANK.drop_duplicates(keep='first',inplace=True)\n",
        "df_LT.drop_duplicates(keep='first',inplace=True)\n",
        "df_INFY.drop_duplicates(keep='first',inplace=True)\n",
        "df_KOTAKBANK.drop_duplicates(keep='first',inplace=True)\n",
        "df_ITC.drop_duplicates(keep='first',inplace=True)\n",
        "df_SBIN.drop_duplicates(keep='first',inplace=True)\n",
        "df_ICICIBANK.drop_duplicates(keep='first',inplace=True)"
      ]
    },
    {
      "cell_type": "code",
      "execution_count": null,
      "metadata": {
        "colab": {
          "base_uri": "https://localhost:8080/"
        },
        "id": "Xr7qadjLLZ6U",
        "outputId": "413d33ca-08a2-4bcf-d47d-42b929cf731e"
      },
      "outputs": [
        {
          "output_type": "execute_result",
          "data": {
            "text/plain": [
              "(64040, 7)"
            ]
          },
          "metadata": {},
          "execution_count": 6
        }
      ],
      "source": [
        "# Combine all the dataFrames into a single one\n",
        "df_complete = pd.concat([df_reliance ,df_hdfc,df_tcs,df_HDFCBANK,df_LT,df_INFY,df_KOTAKBANK,df_ITC,df_SBIN,df_ICICIBANK])\n",
        "\n",
        "# View the shape\n",
        "df_complete.shape"
      ]
    },
    {
      "cell_type": "code",
      "execution_count": null,
      "metadata": {
        "colab": {
          "base_uri": "https://localhost:8080/",
          "height": 424
        },
        "id": "yipqfXirt5-l",
        "outputId": "1a30f5e0-2372-499a-a3df-32f182fd97e9"
      },
      "outputs": [
        {
          "output_type": "execute_result",
          "data": {
            "text/plain": [
              "                       Datetime         Open         High          Low  \\\n",
              "0     2021-04-26 09:15:00+05:30  1920.000000  1930.000000  1912.000000   \n",
              "1     2021-04-26 09:30:00+05:30  1927.000000  1936.100000  1925.050000   \n",
              "2     2021-04-26 09:45:00+05:30  1935.200000  1949.750000  1935.050000   \n",
              "3     2021-04-26 10:00:00+05:30  1949.150000  1961.600000  1949.100000   \n",
              "4     2021-04-26 10:15:00+05:30  1955.050000  1958.200000  1947.600000   \n",
              "...                         ...          ...          ...          ...   \n",
              "6399  2022-05-06 14:15:00+05:30   721.549988   721.750000   717.000000   \n",
              "6400  2022-05-06 14:30:00+05:30   717.099976   718.450012   716.299988   \n",
              "6401  2022-05-06 14:45:00+05:30   717.049988   718.250000   715.549988   \n",
              "6402  2022-05-06 15:00:00+05:30   717.650024   719.549988   716.799988   \n",
              "6403  2022-05-06 15:15:00+05:30   719.450012   721.049988   719.450012   \n",
              "\n",
              "            Close   Volume Trading_code  \n",
              "0     1926.850000  1061804     RELIANCE  \n",
              "1     1935.050000   652372     RELIANCE  \n",
              "2     1949.250000   707257     RELIANCE  \n",
              "3     1955.000000   915519     RELIANCE  \n",
              "4     1950.950000   609119     RELIANCE  \n",
              "...           ...      ...          ...  \n",
              "6399   717.000000   450609    ICICIBANK  \n",
              "6400   717.099976   383262    ICICIBANK  \n",
              "6401   717.599976   486507    ICICIBANK  \n",
              "6402   719.400024   894179    ICICIBANK  \n",
              "6403   721.000000   955062    ICICIBANK  \n",
              "\n",
              "[64040 rows x 7 columns]"
            ],
            "text/html": [
              "\n",
              "  <div id=\"df-8ac1f1ac-0cbc-4ec9-9af4-8e3d3c38d683\">\n",
              "    <div class=\"colab-df-container\">\n",
              "      <div>\n",
              "<style scoped>\n",
              "    .dataframe tbody tr th:only-of-type {\n",
              "        vertical-align: middle;\n",
              "    }\n",
              "\n",
              "    .dataframe tbody tr th {\n",
              "        vertical-align: top;\n",
              "    }\n",
              "\n",
              "    .dataframe thead th {\n",
              "        text-align: right;\n",
              "    }\n",
              "</style>\n",
              "<table border=\"1\" class=\"dataframe\">\n",
              "  <thead>\n",
              "    <tr style=\"text-align: right;\">\n",
              "      <th></th>\n",
              "      <th>Datetime</th>\n",
              "      <th>Open</th>\n",
              "      <th>High</th>\n",
              "      <th>Low</th>\n",
              "      <th>Close</th>\n",
              "      <th>Volume</th>\n",
              "      <th>Trading_code</th>\n",
              "    </tr>\n",
              "  </thead>\n",
              "  <tbody>\n",
              "    <tr>\n",
              "      <th>0</th>\n",
              "      <td>2021-04-26 09:15:00+05:30</td>\n",
              "      <td>1920.000000</td>\n",
              "      <td>1930.000000</td>\n",
              "      <td>1912.000000</td>\n",
              "      <td>1926.850000</td>\n",
              "      <td>1061804</td>\n",
              "      <td>RELIANCE</td>\n",
              "    </tr>\n",
              "    <tr>\n",
              "      <th>1</th>\n",
              "      <td>2021-04-26 09:30:00+05:30</td>\n",
              "      <td>1927.000000</td>\n",
              "      <td>1936.100000</td>\n",
              "      <td>1925.050000</td>\n",
              "      <td>1935.050000</td>\n",
              "      <td>652372</td>\n",
              "      <td>RELIANCE</td>\n",
              "    </tr>\n",
              "    <tr>\n",
              "      <th>2</th>\n",
              "      <td>2021-04-26 09:45:00+05:30</td>\n",
              "      <td>1935.200000</td>\n",
              "      <td>1949.750000</td>\n",
              "      <td>1935.050000</td>\n",
              "      <td>1949.250000</td>\n",
              "      <td>707257</td>\n",
              "      <td>RELIANCE</td>\n",
              "    </tr>\n",
              "    <tr>\n",
              "      <th>3</th>\n",
              "      <td>2021-04-26 10:00:00+05:30</td>\n",
              "      <td>1949.150000</td>\n",
              "      <td>1961.600000</td>\n",
              "      <td>1949.100000</td>\n",
              "      <td>1955.000000</td>\n",
              "      <td>915519</td>\n",
              "      <td>RELIANCE</td>\n",
              "    </tr>\n",
              "    <tr>\n",
              "      <th>4</th>\n",
              "      <td>2021-04-26 10:15:00+05:30</td>\n",
              "      <td>1955.050000</td>\n",
              "      <td>1958.200000</td>\n",
              "      <td>1947.600000</td>\n",
              "      <td>1950.950000</td>\n",
              "      <td>609119</td>\n",
              "      <td>RELIANCE</td>\n",
              "    </tr>\n",
              "    <tr>\n",
              "      <th>...</th>\n",
              "      <td>...</td>\n",
              "      <td>...</td>\n",
              "      <td>...</td>\n",
              "      <td>...</td>\n",
              "      <td>...</td>\n",
              "      <td>...</td>\n",
              "      <td>...</td>\n",
              "    </tr>\n",
              "    <tr>\n",
              "      <th>6399</th>\n",
              "      <td>2022-05-06 14:15:00+05:30</td>\n",
              "      <td>721.549988</td>\n",
              "      <td>721.750000</td>\n",
              "      <td>717.000000</td>\n",
              "      <td>717.000000</td>\n",
              "      <td>450609</td>\n",
              "      <td>ICICIBANK</td>\n",
              "    </tr>\n",
              "    <tr>\n",
              "      <th>6400</th>\n",
              "      <td>2022-05-06 14:30:00+05:30</td>\n",
              "      <td>717.099976</td>\n",
              "      <td>718.450012</td>\n",
              "      <td>716.299988</td>\n",
              "      <td>717.099976</td>\n",
              "      <td>383262</td>\n",
              "      <td>ICICIBANK</td>\n",
              "    </tr>\n",
              "    <tr>\n",
              "      <th>6401</th>\n",
              "      <td>2022-05-06 14:45:00+05:30</td>\n",
              "      <td>717.049988</td>\n",
              "      <td>718.250000</td>\n",
              "      <td>715.549988</td>\n",
              "      <td>717.599976</td>\n",
              "      <td>486507</td>\n",
              "      <td>ICICIBANK</td>\n",
              "    </tr>\n",
              "    <tr>\n",
              "      <th>6402</th>\n",
              "      <td>2022-05-06 15:00:00+05:30</td>\n",
              "      <td>717.650024</td>\n",
              "      <td>719.549988</td>\n",
              "      <td>716.799988</td>\n",
              "      <td>719.400024</td>\n",
              "      <td>894179</td>\n",
              "      <td>ICICIBANK</td>\n",
              "    </tr>\n",
              "    <tr>\n",
              "      <th>6403</th>\n",
              "      <td>2022-05-06 15:15:00+05:30</td>\n",
              "      <td>719.450012</td>\n",
              "      <td>721.049988</td>\n",
              "      <td>719.450012</td>\n",
              "      <td>721.000000</td>\n",
              "      <td>955062</td>\n",
              "      <td>ICICIBANK</td>\n",
              "    </tr>\n",
              "  </tbody>\n",
              "</table>\n",
              "<p>64040 rows × 7 columns</p>\n",
              "</div>\n",
              "      <button class=\"colab-df-convert\" onclick=\"convertToInteractive('df-8ac1f1ac-0cbc-4ec9-9af4-8e3d3c38d683')\"\n",
              "              title=\"Convert this dataframe to an interactive table.\"\n",
              "              style=\"display:none;\">\n",
              "        \n",
              "  <svg xmlns=\"http://www.w3.org/2000/svg\" height=\"24px\"viewBox=\"0 0 24 24\"\n",
              "       width=\"24px\">\n",
              "    <path d=\"M0 0h24v24H0V0z\" fill=\"none\"/>\n",
              "    <path d=\"M18.56 5.44l.94 2.06.94-2.06 2.06-.94-2.06-.94-.94-2.06-.94 2.06-2.06.94zm-11 1L8.5 8.5l.94-2.06 2.06-.94-2.06-.94L8.5 2.5l-.94 2.06-2.06.94zm10 10l.94 2.06.94-2.06 2.06-.94-2.06-.94-.94-2.06-.94 2.06-2.06.94z\"/><path d=\"M17.41 7.96l-1.37-1.37c-.4-.4-.92-.59-1.43-.59-.52 0-1.04.2-1.43.59L10.3 9.45l-7.72 7.72c-.78.78-.78 2.05 0 2.83L4 21.41c.39.39.9.59 1.41.59.51 0 1.02-.2 1.41-.59l7.78-7.78 2.81-2.81c.8-.78.8-2.07 0-2.86zM5.41 20L4 18.59l7.72-7.72 1.47 1.35L5.41 20z\"/>\n",
              "  </svg>\n",
              "      </button>\n",
              "      \n",
              "  <style>\n",
              "    .colab-df-container {\n",
              "      display:flex;\n",
              "      flex-wrap:wrap;\n",
              "      gap: 12px;\n",
              "    }\n",
              "\n",
              "    .colab-df-convert {\n",
              "      background-color: #E8F0FE;\n",
              "      border: none;\n",
              "      border-radius: 50%;\n",
              "      cursor: pointer;\n",
              "      display: none;\n",
              "      fill: #1967D2;\n",
              "      height: 32px;\n",
              "      padding: 0 0 0 0;\n",
              "      width: 32px;\n",
              "    }\n",
              "\n",
              "    .colab-df-convert:hover {\n",
              "      background-color: #E2EBFA;\n",
              "      box-shadow: 0px 1px 2px rgba(60, 64, 67, 0.3), 0px 1px 3px 1px rgba(60, 64, 67, 0.15);\n",
              "      fill: #174EA6;\n",
              "    }\n",
              "\n",
              "    [theme=dark] .colab-df-convert {\n",
              "      background-color: #3B4455;\n",
              "      fill: #D2E3FC;\n",
              "    }\n",
              "\n",
              "    [theme=dark] .colab-df-convert:hover {\n",
              "      background-color: #434B5C;\n",
              "      box-shadow: 0px 1px 3px 1px rgba(0, 0, 0, 0.15);\n",
              "      filter: drop-shadow(0px 1px 2px rgba(0, 0, 0, 0.3));\n",
              "      fill: #FFFFFF;\n",
              "    }\n",
              "  </style>\n",
              "\n",
              "      <script>\n",
              "        const buttonEl =\n",
              "          document.querySelector('#df-8ac1f1ac-0cbc-4ec9-9af4-8e3d3c38d683 button.colab-df-convert');\n",
              "        buttonEl.style.display =\n",
              "          google.colab.kernel.accessAllowed ? 'block' : 'none';\n",
              "\n",
              "        async function convertToInteractive(key) {\n",
              "          const element = document.querySelector('#df-8ac1f1ac-0cbc-4ec9-9af4-8e3d3c38d683');\n",
              "          const dataTable =\n",
              "            await google.colab.kernel.invokeFunction('convertToInteractive',\n",
              "                                                     [key], {});\n",
              "          if (!dataTable) return;\n",
              "\n",
              "          const docLinkHtml = 'Like what you see? Visit the ' +\n",
              "            '<a target=\"_blank\" href=https://colab.research.google.com/notebooks/data_table.ipynb>data table notebook</a>'\n",
              "            + ' to learn more about interactive tables.';\n",
              "          element.innerHTML = '';\n",
              "          dataTable['output_type'] = 'display_data';\n",
              "          await google.colab.output.renderOutput(dataTable, element);\n",
              "          const docLink = document.createElement('div');\n",
              "          docLink.innerHTML = docLinkHtml;\n",
              "          element.appendChild(docLink);\n",
              "        }\n",
              "      </script>\n",
              "    </div>\n",
              "  </div>\n",
              "  "
            ]
          },
          "metadata": {},
          "execution_count": 7
        }
      ],
      "source": [
        "df_complete"
      ]
    },
    {
      "cell_type": "code",
      "execution_count": null,
      "metadata": {
        "colab": {
          "base_uri": "https://localhost:8080/"
        },
        "id": "Owe2eK0WMPOS",
        "outputId": "e531a249-8e1a-4ec1-bcf2-d92fb5f8e497"
      },
      "outputs": [
        {
          "output_type": "stream",
          "name": "stdout",
          "text": [
            "<class 'pandas.core.frame.DataFrame'>\n",
            "Int64Index: 64040 entries, 0 to 6403\n",
            "Data columns (total 7 columns):\n",
            " #   Column        Non-Null Count  Dtype  \n",
            "---  ------        --------------  -----  \n",
            " 0   Datetime      64040 non-null  object \n",
            " 1   Open          64040 non-null  float64\n",
            " 2   High          64040 non-null  float64\n",
            " 3   Low           64040 non-null  float64\n",
            " 4   Close         64040 non-null  float64\n",
            " 5   Volume        64040 non-null  int64  \n",
            " 6   Trading_code  64040 non-null  object \n",
            "dtypes: float64(4), int64(1), object(2)\n",
            "memory usage: 3.9+ MB\n"
          ]
        }
      ],
      "source": [
        "df_complete.info()"
      ]
    },
    {
      "cell_type": "code",
      "execution_count": null,
      "metadata": {
        "colab": {
          "base_uri": "https://localhost:8080/",
          "height": 206
        },
        "id": "a733TbQNMOX_",
        "outputId": "65db842c-525b-4443-be3f-691172fe7d52"
      },
      "outputs": [
        {
          "output_type": "execute_result",
          "data": {
            "text/plain": [
              "                    Datetime     Open     High      Low    Close   Volume  \\\n",
              "0  2021-04-26 09:15:00+05:30  1920.00  1930.00  1912.00  1926.85  1061804   \n",
              "1  2021-04-26 09:30:00+05:30  1927.00  1936.10  1925.05  1935.05   652372   \n",
              "2  2021-04-26 09:45:00+05:30  1935.20  1949.75  1935.05  1949.25   707257   \n",
              "3  2021-04-26 10:00:00+05:30  1949.15  1961.60  1949.10  1955.00   915519   \n",
              "4  2021-04-26 10:15:00+05:30  1955.05  1958.20  1947.60  1950.95   609119   \n",
              "\n",
              "  Trading_code  \n",
              "0     RELIANCE  \n",
              "1     RELIANCE  \n",
              "2     RELIANCE  \n",
              "3     RELIANCE  \n",
              "4     RELIANCE  "
            ],
            "text/html": [
              "\n",
              "  <div id=\"df-023569ba-5de3-45fc-8aab-3350d683e430\">\n",
              "    <div class=\"colab-df-container\">\n",
              "      <div>\n",
              "<style scoped>\n",
              "    .dataframe tbody tr th:only-of-type {\n",
              "        vertical-align: middle;\n",
              "    }\n",
              "\n",
              "    .dataframe tbody tr th {\n",
              "        vertical-align: top;\n",
              "    }\n",
              "\n",
              "    .dataframe thead th {\n",
              "        text-align: right;\n",
              "    }\n",
              "</style>\n",
              "<table border=\"1\" class=\"dataframe\">\n",
              "  <thead>\n",
              "    <tr style=\"text-align: right;\">\n",
              "      <th></th>\n",
              "      <th>Datetime</th>\n",
              "      <th>Open</th>\n",
              "      <th>High</th>\n",
              "      <th>Low</th>\n",
              "      <th>Close</th>\n",
              "      <th>Volume</th>\n",
              "      <th>Trading_code</th>\n",
              "    </tr>\n",
              "  </thead>\n",
              "  <tbody>\n",
              "    <tr>\n",
              "      <th>0</th>\n",
              "      <td>2021-04-26 09:15:00+05:30</td>\n",
              "      <td>1920.00</td>\n",
              "      <td>1930.00</td>\n",
              "      <td>1912.00</td>\n",
              "      <td>1926.85</td>\n",
              "      <td>1061804</td>\n",
              "      <td>RELIANCE</td>\n",
              "    </tr>\n",
              "    <tr>\n",
              "      <th>1</th>\n",
              "      <td>2021-04-26 09:30:00+05:30</td>\n",
              "      <td>1927.00</td>\n",
              "      <td>1936.10</td>\n",
              "      <td>1925.05</td>\n",
              "      <td>1935.05</td>\n",
              "      <td>652372</td>\n",
              "      <td>RELIANCE</td>\n",
              "    </tr>\n",
              "    <tr>\n",
              "      <th>2</th>\n",
              "      <td>2021-04-26 09:45:00+05:30</td>\n",
              "      <td>1935.20</td>\n",
              "      <td>1949.75</td>\n",
              "      <td>1935.05</td>\n",
              "      <td>1949.25</td>\n",
              "      <td>707257</td>\n",
              "      <td>RELIANCE</td>\n",
              "    </tr>\n",
              "    <tr>\n",
              "      <th>3</th>\n",
              "      <td>2021-04-26 10:00:00+05:30</td>\n",
              "      <td>1949.15</td>\n",
              "      <td>1961.60</td>\n",
              "      <td>1949.10</td>\n",
              "      <td>1955.00</td>\n",
              "      <td>915519</td>\n",
              "      <td>RELIANCE</td>\n",
              "    </tr>\n",
              "    <tr>\n",
              "      <th>4</th>\n",
              "      <td>2021-04-26 10:15:00+05:30</td>\n",
              "      <td>1955.05</td>\n",
              "      <td>1958.20</td>\n",
              "      <td>1947.60</td>\n",
              "      <td>1950.95</td>\n",
              "      <td>609119</td>\n",
              "      <td>RELIANCE</td>\n",
              "    </tr>\n",
              "  </tbody>\n",
              "</table>\n",
              "</div>\n",
              "      <button class=\"colab-df-convert\" onclick=\"convertToInteractive('df-023569ba-5de3-45fc-8aab-3350d683e430')\"\n",
              "              title=\"Convert this dataframe to an interactive table.\"\n",
              "              style=\"display:none;\">\n",
              "        \n",
              "  <svg xmlns=\"http://www.w3.org/2000/svg\" height=\"24px\"viewBox=\"0 0 24 24\"\n",
              "       width=\"24px\">\n",
              "    <path d=\"M0 0h24v24H0V0z\" fill=\"none\"/>\n",
              "    <path d=\"M18.56 5.44l.94 2.06.94-2.06 2.06-.94-2.06-.94-.94-2.06-.94 2.06-2.06.94zm-11 1L8.5 8.5l.94-2.06 2.06-.94-2.06-.94L8.5 2.5l-.94 2.06-2.06.94zm10 10l.94 2.06.94-2.06 2.06-.94-2.06-.94-.94-2.06-.94 2.06-2.06.94z\"/><path d=\"M17.41 7.96l-1.37-1.37c-.4-.4-.92-.59-1.43-.59-.52 0-1.04.2-1.43.59L10.3 9.45l-7.72 7.72c-.78.78-.78 2.05 0 2.83L4 21.41c.39.39.9.59 1.41.59.51 0 1.02-.2 1.41-.59l7.78-7.78 2.81-2.81c.8-.78.8-2.07 0-2.86zM5.41 20L4 18.59l7.72-7.72 1.47 1.35L5.41 20z\"/>\n",
              "  </svg>\n",
              "      </button>\n",
              "      \n",
              "  <style>\n",
              "    .colab-df-container {\n",
              "      display:flex;\n",
              "      flex-wrap:wrap;\n",
              "      gap: 12px;\n",
              "    }\n",
              "\n",
              "    .colab-df-convert {\n",
              "      background-color: #E8F0FE;\n",
              "      border: none;\n",
              "      border-radius: 50%;\n",
              "      cursor: pointer;\n",
              "      display: none;\n",
              "      fill: #1967D2;\n",
              "      height: 32px;\n",
              "      padding: 0 0 0 0;\n",
              "      width: 32px;\n",
              "    }\n",
              "\n",
              "    .colab-df-convert:hover {\n",
              "      background-color: #E2EBFA;\n",
              "      box-shadow: 0px 1px 2px rgba(60, 64, 67, 0.3), 0px 1px 3px 1px rgba(60, 64, 67, 0.15);\n",
              "      fill: #174EA6;\n",
              "    }\n",
              "\n",
              "    [theme=dark] .colab-df-convert {\n",
              "      background-color: #3B4455;\n",
              "      fill: #D2E3FC;\n",
              "    }\n",
              "\n",
              "    [theme=dark] .colab-df-convert:hover {\n",
              "      background-color: #434B5C;\n",
              "      box-shadow: 0px 1px 3px 1px rgba(0, 0, 0, 0.15);\n",
              "      filter: drop-shadow(0px 1px 2px rgba(0, 0, 0, 0.3));\n",
              "      fill: #FFFFFF;\n",
              "    }\n",
              "  </style>\n",
              "\n",
              "      <script>\n",
              "        const buttonEl =\n",
              "          document.querySelector('#df-023569ba-5de3-45fc-8aab-3350d683e430 button.colab-df-convert');\n",
              "        buttonEl.style.display =\n",
              "          google.colab.kernel.accessAllowed ? 'block' : 'none';\n",
              "\n",
              "        async function convertToInteractive(key) {\n",
              "          const element = document.querySelector('#df-023569ba-5de3-45fc-8aab-3350d683e430');\n",
              "          const dataTable =\n",
              "            await google.colab.kernel.invokeFunction('convertToInteractive',\n",
              "                                                     [key], {});\n",
              "          if (!dataTable) return;\n",
              "\n",
              "          const docLinkHtml = 'Like what you see? Visit the ' +\n",
              "            '<a target=\"_blank\" href=https://colab.research.google.com/notebooks/data_table.ipynb>data table notebook</a>'\n",
              "            + ' to learn more about interactive tables.';\n",
              "          element.innerHTML = '';\n",
              "          dataTable['output_type'] = 'display_data';\n",
              "          await google.colab.output.renderOutput(dataTable, element);\n",
              "          const docLink = document.createElement('div');\n",
              "          docLink.innerHTML = docLinkHtml;\n",
              "          element.appendChild(docLink);\n",
              "        }\n",
              "      </script>\n",
              "    </div>\n",
              "  </div>\n",
              "  "
            ]
          },
          "metadata": {},
          "execution_count": 9
        }
      ],
      "source": [
        "df_complete.head()"
      ]
    },
    {
      "cell_type": "code",
      "execution_count": null,
      "metadata": {
        "colab": {
          "base_uri": "https://localhost:8080/"
        },
        "id": "_5wUCQmibV-X",
        "outputId": "0eb29878-4cea-4f82-ebf8-38b880ea2045"
      },
      "outputs": [
        {
          "output_type": "execute_result",
          "data": {
            "text/plain": [
              "(6404, 7)"
            ]
          },
          "metadata": {},
          "execution_count": 10
        }
      ],
      "source": [
        "df_ITC.shape"
      ]
    },
    {
      "cell_type": "code",
      "execution_count": null,
      "metadata": {
        "id": "C9FLBOQjzGVi"
      },
      "outputs": [],
      "source": [
        "df_complete.sort_values(by=[\"Datetime\"], inplace=True, ascending=True)\n",
        "df_complete.drop_duplicates(keep=False,inplace=True)"
      ]
    },
    {
      "cell_type": "code",
      "execution_count": null,
      "metadata": {
        "colab": {
          "base_uri": "https://localhost:8080/"
        },
        "id": "b430INvwKko-",
        "outputId": "de2fc489-6eab-406c-e8cc-5fc763c14a99"
      },
      "outputs": [
        {
          "output_type": "stream",
          "name": "stdout",
          "text": [
            "<class 'pandas.core.frame.DataFrame'>\n"
          ]
        }
      ],
      "source": [
        "print(type(df_complete))"
      ]
    },
    {
      "cell_type": "code",
      "execution_count": null,
      "metadata": {
        "colab": {
          "base_uri": "https://localhost:8080/"
        },
        "id": "roVxzopcMezG",
        "outputId": "78bd1113-d615-4235-e578-830b271e4c6d"
      },
      "outputs": [
        {
          "output_type": "execute_result",
          "data": {
            "text/plain": [
              "RELIANCE     6404\n",
              "HDFCBANK     6404\n",
              "HDFC         6404\n",
              "LT           6404\n",
              "ICICIBANK    6404\n",
              "KOTAKBANK    6404\n",
              "ITC          6404\n",
              "SBIN         6404\n",
              "INFY         6404\n",
              "TCS          6404\n",
              "Name: Trading_code, dtype: int64"
            ]
          },
          "metadata": {},
          "execution_count": 13
        }
      ],
      "source": [
        "df_complete.Trading_code.value_counts()"
      ]
    },
    {
      "cell_type": "code",
      "execution_count": null,
      "metadata": {
        "id": "27TQmjZLM3vn"
      },
      "outputs": [],
      "source": [
        "# Create distinct dataFrame for each of \n",
        "df_reliance = df_complete[df_complete.Trading_code == \"RELIANCE\"]\n",
        "df_hdfc = df_complete[df_complete.Trading_code == \"HDFC\"]\n",
        "df_tcs = df_complete[df_complete.Trading_code == \"TCS\"]\n",
        "df_LT = df_complete[df_complete.Trading_code == \"LT\"]\n",
        "df_HDFCBANK = df_complete[df_complete.Trading_code == \"HDFCBANK\"]\n",
        "df_INFY = df_complete[df_complete.Trading_code == \"INFY\"]\n",
        "df_KOTAKBANK = df_complete[df_complete.Trading_code == \"KOTAKBANK\"]\n",
        "df_ITC = df_complete[df_complete.Trading_code == \"ITC\"]\n",
        "df_SBIN = df_complete[df_complete.Trading_code == \"SBIN\"]\n",
        "df_ICICIBANK = df_complete[df_complete.Trading_code == \"ICICIBANK\"]"
      ]
    },
    {
      "cell_type": "code",
      "execution_count": null,
      "metadata": {
        "id": "viVUanRwNLcG"
      },
      "outputs": [],
      "source": [
        "# Discard unnecessary column\n",
        "df_reliance = df_reliance .drop(\"Trading_code\", axis=1)\n",
        "df_hdfc = df_hdfc.drop(\"Trading_code\", axis=1)\n",
        "df_tcs = df_tcs.drop(\"Trading_code\", axis=1)\n",
        "df_LT = df_LT .drop(\"Trading_code\", axis=1)\n",
        "df_HDFCBANK = df_HDFCBANK.drop(\"Trading_code\", axis=1)\n",
        "df_INFY = df_INFY.drop(\"Trading_code\", axis=1)\n",
        "df_KOTAKBANK = df_KOTAKBANK.drop(\"Trading_code\", axis=1)\n",
        "df_ITC = df_ITC.drop(\"Trading_code\", axis=1)\n",
        "df_SBIN = df_SBIN.drop(\"Trading_code\", axis=1)\n",
        "df_ICICIBANK = df_ICICIBANK.drop(\"Trading_code\", axis=1)\n"
      ]
    },
    {
      "cell_type": "code",
      "execution_count": null,
      "metadata": {
        "id": "RGKkHqteNQaL"
      },
      "outputs": [],
      "source": [
        "# Sort the samples by ascending order of date\n",
        "df_reliance.sort_values(by=[\"Datetime\"], inplace=True, ascending=True)\n",
        "df_hdfc.sort_values(by=[\"Datetime\"], inplace=True, ascending=True)\n",
        "df_tcs.sort_values(by=[\"Datetime\"], inplace=True, ascending=True)\n",
        "df_LT.sort_values(by=[\"Datetime\"], inplace=True, ascending=True)\n",
        "df_HDFCBANK.sort_values(by=[\"Datetime\"], inplace=True, ascending=True)\n",
        "df_INFY.sort_values(by=[\"Datetime\"], inplace=True, ascending=True)\n",
        "df_KOTAKBANK.sort_values(by=[\"Datetime\"], inplace=True, ascending=True)\n",
        "df_ITC.sort_values(by=[\"Datetime\"], inplace=True, ascending=True)\n",
        "df_SBIN.sort_values(by=[\"Datetime\"], inplace=True, ascending=True)\n",
        "df_ICICIBANK.sort_values(by=[\"Datetime\"], inplace=True, ascending=True)"
      ]
    },
    {
      "cell_type": "code",
      "source": [
        "# Plot closing_price with respect to date\n",
        "fig, (ax0) = plt.subplots(nrows=1, ncols=1, figsize=(4,6))\n",
        "\n",
        "# Add data for ax0\n",
        "ax0.plot(df_reliance.Datetime, df_reliance.Close, lw=2, alpha=1)\n",
        "# Customize ax0\n",
        "ax0.grid(alpha=0.95)\n",
        "ax0.set(title=\"Reliance\",\n",
        "        xlabel=\"Date\",\n",
        "        ylabel=\"Closing Price\")\n"
      ],
      "metadata": {
        "colab": {
          "base_uri": "https://localhost:8080/",
          "height": 456
        },
        "id": "c1AMIF-0UagO",
        "outputId": "4b8fb437-508a-489b-e84d-30e54cca281b"
      },
      "execution_count": null,
      "outputs": [
        {
          "output_type": "execute_result",
          "data": {
            "text/plain": [
              "[Text(0, 0.5, 'Closing Price'),\n",
              " Text(0.5, 0, 'Date'),\n",
              " Text(0.5, 1.0, 'Reliance')]"
            ]
          },
          "metadata": {},
          "execution_count": 19
        },
        {
          "output_type": "display_data",
          "data": {
            "text/plain": [
              "<Figure size 288x432 with 1 Axes>"
            ],
            "image/png": "[encoded data removed]"
          },
          "metadata": {
            "needs_background": "light"
          }
        }
      ]
    },
    {
      "cell_type": "code",
      "execution_count": null,
      "metadata": {
        "id": "btQ5f_XZgFf0"
      },
      "outputs": [],
      "source": [
        "def calculate_ema(prices, days, smoothing=2):\n",
        "    \n",
        "    ema = [sum(prices[:days]) / days]\n",
        "    for price in prices[days:]:\n",
        "        ema.append((price * (smoothing / (1 + days))) + ema[-1] * (1 - (smoothing / (1 + days))))\n",
        "    return ema\n"
      ]
    },
    {
      "cell_type": "code",
      "execution_count": null,
      "metadata": {
        "id": "5x4RvQUgcxFP"
      },
      "outputs": [],
      "source": [
        "def print_ema(df,t):\n",
        "  \n",
        " \n",
        "  ema_X = np.arange(df.shape[0])      # Creates array [10, 11, 12, 13, ..., df.shape[0]+1]\n",
        "                                      # We start at 10, because we use the first 10 values to calculate the SMA,\n",
        "                                      # then we calculate EMA form the 11th value\n",
        "\n",
        "  plt.figure(figsize=(10,7))\n",
        "  plt.title(t)\n",
        "  plt.xlabel('Days')\n",
        "  plt.ylabel('Price')\n",
        "  plt.plot(df['Close'], label='Closing Prices')#price_X, \n",
        "  plt.plot( df['vwap'], label='VWAP')#ema_X,\n",
        "  \n",
        "  plt.plot( df['ema'], label='EMA')#ema_X,\n",
        "  \n",
        "  plt.plot()\n",
        "  \n",
        "  plt.show()"
      ]
    },
    {
      "cell_type": "code",
      "execution_count": null,
      "metadata": {
        "id": "X-sgZQ7OMUD9"
      },
      "outputs": [],
      "source": [
        "def vwap(df):\n",
        "  vwap=[]\n",
        "  for ind in df.index:\n",
        "    vwap.append( float(df['High'][ind]+df['Low'][ind]+df['Close'][ind])*df['Volume'][ind]/((df['Volume'][ind].cumsum())*3)[0])\n",
        "    #print (vwap)\n",
        "  return vwap\n",
        "  "
      ]
    },
    {
      "cell_type": "code",
      "execution_count": null,
      "metadata": {
        "id": "nFaQZokJVzOu"
      },
      "outputs": [],
      "source": [
        "def nextclose (df):\n",
        "  next=[]\n",
        "  for ind in df.index:\n",
        "    if(ind>=1):\n",
        "      #next.append(df['Close'][ind])\n",
        "      df['next_close'][ind-1]=float(df['Close'][ind])\n",
        "  #print(next)\n",
        "  #return next\n",
        "  "
      ]
    },
    {
      "cell_type": "code",
      "execution_count": null,
      "metadata": {
        "id": "-xAU1E50TjZW"
      },
      "outputs": [],
      "source": [
        "def calc(df,x):\n",
        "  df['ema']=np.nan\n",
        "  ema= calculate_ema(df['Close'], 10)\n",
        "  df['ema'].iloc[9:9+len(ema)] = ema\n",
        "  df['vwap']=vwap(df)\n",
        "  #df=df.dropna()\n",
        "  df['next_close']=0.0\n",
        "  #df['next_close']=nextclose(df)\n",
        "  nextclose(df)\n",
        "  print_ema(df,x)\n"
      ]
    },
    {
      "cell_type": "code",
      "execution_count": null,
      "metadata": {
        "id": "MoN59PRlUNZg"
      },
      "outputs": [],
      "source": [
        "calc(df_reliance,\"Reliance\")\n",
        "df_reliance=df_reliance.dropna()\n",
        "calc(df_hdfc,\"HDFC\")\n",
        "df_hdfc=df_hdfc.dropna()\n",
        "calc(df_tcs,\"TCS\")\n",
        "df_tcs=df_tcs.dropna()\n",
        "calc(df_HDFCBANK,\"HDFCBANK\")\n",
        "df_HDFCBANK=df_HDFCBANK.dropna()\n",
        "calc(df_LT,\"LT\")\n",
        "df_LT=df_LT.dropna()\n",
        "calc(df_INFY,\"INFY\")\n",
        "df_INFY=df_INFY.dropna()\n",
        "calc(df_KOTAKBANK,\"KOTAKBANK\")\n",
        "df_KOTAKBANK=df_KOTAKBANK.dropna()\n",
        "calc(df_ITC,\"ITC\")\n",
        "df_ITC=df_ITC.dropna()\n",
        "calc(df_SBIN,\"SBIN\")\n",
        "df_SBIN=df_SBIN.dropna()\n",
        "calc(df_ICICIBANK,\"ICICIBANK\")\n",
        "df_ICICIBANK=df_ICICIBANK.dropna()"
      ]
    },
    {
      "cell_type": "code",
      "execution_count": null,
      "metadata": {
        "id": "IPLF9QTETzzA"
      },
      "outputs": [],
      "source": [
        "df_reliance.info()"
      ]
    },
    {
      "cell_type": "code",
      "execution_count": null,
      "metadata": {
        "id": "dwRmfuYOT5Tw"
      },
      "outputs": [],
      "source": [
        "df_hdfc.info()"
      ]
    },
    {
      "cell_type": "code",
      "execution_count": null,
      "metadata": {
        "id": "kcHpEc56O1n0"
      },
      "outputs": [],
      "source": [
        "# calculate the Pearson's correlation between two variables (check it just based on the data of dhaka bank)\n",
        "from scipy.stats import pearsonr\n",
        "\n",
        "# list down the features\n",
        "features = [\"Open\",\t\"High\",\t\"Low\",\t\"Close\",\t\"Volume\", \"ema\", \"vwap\"\t]\n",
        "\n",
        "# take each feature and calculate Pearson's correlation\n",
        "for feature in features:\n",
        "    # get data\n",
        "    data1 = df_reliance[feature]\n",
        "    data2 = df_reliance[\"next_close\"]\n",
        "    # calculate Pearson's correlation\n",
        "    corr, _ = pearsonr(data1, data2)\n",
        "    print('Pearsons correlation for {} and {}: {:.3f}'.format(feature, \"Close\", corr))"
      ]
    },
    {
      "cell_type": "code",
      "execution_count": null,
      "metadata": {
        "id": "5_ICPJUDjOgd"
      },
      "outputs": [],
      "source": [
        "import seaborn as sn\n",
        "corrMatrix = df_reliance.corr()\n",
        "#print (corrMatrix)\n",
        "sn.heatmap(corrMatrix, annot=True)\n",
        "plt.show()"
      ]
    },
    {
      "cell_type": "code",
      "execution_count": null,
      "metadata": {
        "id": "QH764l2SO5iy"
      },
      "outputs": [],
      "source": [
        "# Export data as a csv file\n",
        "df_reliance.to_csv(\"/content/drive/MyDrive/Colab Notebooks/Project/reliance_data.csv\", index=False)\n",
        "df_hdfc.to_csv(\"/content/drive/MyDrive/Colab Notebooks/Project/hdfc_data.csv\", index=False)\n",
        "df_tcs.to_csv(\"/content/drive/MyDrive/Colab Notebooks/Project/tcs_data.csv\", index=False)\n",
        "df_HDFCBANK.to_csv(\"/content/drive/MyDrive/Colab Notebooks/Project/HDFCBANK_data.csv\", index=False)\n",
        "df_LT.to_csv(\"/content/drive/MyDrive/Colab Notebooks/Project/LT_data.csv\", index=False)\n",
        "df_INFY.to_csv(\"/content/drive/MyDrive/Colab Notebooks/Project/INFY_data.csv\", index=False)\n",
        "df_KOTAKBANK.to_csv(\"/content/drive/MyDrive/Colab Notebooks/Project/KOTAKBANK_data.csv\", index=False)\n",
        "df_ITC.to_csv(\"/content/drive/MyDrive/Colab Notebooks/Project/ITC_data.csv\", index=False)\n",
        "df_SBIN.to_csv(\"/content/drive/MyDrive/Colab Notebooks/Project/SBIN_data.csv\", index=False)\n",
        "df_ICICIBANK.to_csv(\"/content/drive/MyDrive/Colab Notebooks/Project/ICICIBANK_data.csv\", index=False)"
      ]
    },
    {
      "cell_type": "markdown",
      "metadata": {
        "id": "XaCW7yafP4SL"
      },
      "source": [
        "Let's import data as streaming data, convert string format date to date format date and investigate the datatypes of some other variables (for testing purpose)"
      ]
    },
    {
      "cell_type": "markdown",
      "metadata": {
        "id": "XcjWSFonQRDg"
      },
      "source": [
        "Now we will define a function for converting the date to ordinal date. Also we will preprocess, normalize and instantiate the model using the pipeline."
      ]
    },
    {
      "cell_type": "code",
      "execution_count": null,
      "metadata": {
        "id": "TjQEarHqQQsU"
      },
      "outputs": [],
      "source": [
        "from river import compose\n",
        "from river import linear_model\n",
        "from river import preprocessing\n",
        "from river import optim\n",
        "\n",
        "#Initialize the SGD optimizer\n",
        "optimizer = optim.SGD()\n",
        "#Initialize the Squared Loss (L2 Loss) function\n",
        "loss = optim.losses.Squared()\n",
        "\n",
        "\n",
        "def get_ordinal_date(x):\n",
        "    return { 'ordinal_date':x['Datetime'],\"Close\": x[\"Close\"],\"ema\":x[\"ema\"],\"vwap\":x[\"vwap\"]}#, \"High\": x[\"High\"], \"Low\": x[\"Low\"], \"Open\": x[\"Open\"]\n",
        "\n",
        "model_1 = compose.Pipeline(\n",
        "    ('ordinal_date', compose.FuncTransformer(get_ordinal_date)),\n",
        "    ('scale', preprocessing.StandardScaler()),\n",
        "    ('lin_reg', linear_model.LinearRegression(optimizer, loss))\n",
        ")\n",
        "\n",
        "model_2 = compose.Pipeline(\n",
        "    ('ordinal_date', compose.FuncTransformer(get_ordinal_date)),\n",
        "    ('scale', preprocessing.StandardScaler()),\n",
        "    ('lin_reg', linear_model.LinearRegression(optimizer, loss))\n",
        ")\n",
        "\n",
        "model_3 = compose.Pipeline(\n",
        "    ('ordinal_date', compose.FuncTransformer(get_ordinal_date)),\n",
        "    ('scale', preprocessing.StandardScaler()),\n",
        "    ('lin_reg', linear_model.LinearRegression(optimizer, loss))\n",
        ")\n",
        "model_4 = compose.Pipeline(\n",
        "    ('ordinal_date', compose.FuncTransformer(get_ordinal_date)),\n",
        "    ('scale', preprocessing.StandardScaler()),\n",
        "    ('lin_reg', linear_model.LinearRegression(optimizer, loss))\n",
        ")\n",
        "\n",
        "model_5 = compose.Pipeline(\n",
        "    ('ordinal_date', compose.FuncTransformer(get_ordinal_date)),\n",
        "    ('scale', preprocessing.StandardScaler()),\n",
        "    ('lin_reg', linear_model.LinearRegression(optimizer, loss))\n",
        ")\n",
        "\n",
        "model_6 = compose.Pipeline(\n",
        "    ('ordinal_date', compose.FuncTransformer(get_ordinal_date)),\n",
        "    ('scale', preprocessing.StandardScaler()),\n",
        "    ('lin_reg', linear_model.LinearRegression(optimizer, loss))\n",
        ")\n",
        "\n",
        "model_7 = compose.Pipeline(\n",
        "    ('ordinal_date', compose.FuncTransformer(get_ordinal_date)),\n",
        "    ('scale', preprocessing.StandardScaler()),\n",
        "    ('lin_reg', linear_model.LinearRegression(optimizer, loss))\n",
        ")\n",
        "\n",
        "model_8 = compose.Pipeline(\n",
        "    ('ordinal_date', compose.FuncTransformer(get_ordinal_date)),\n",
        "    ('scale', preprocessing.StandardScaler()),\n",
        "    ('lin_reg', linear_model.LinearRegression(optimizer, loss))\n",
        ")\n",
        "\n",
        "model_9 = compose.Pipeline(\n",
        "    ('ordinal_date', compose.FuncTransformer(get_ordinal_date)),\n",
        "    ('scale', preprocessing.StandardScaler()),\n",
        "    ('lin_reg', linear_model.LinearRegression(optimizer, loss))\n",
        ")\n",
        "\n",
        "model_10 = compose.Pipeline(\n",
        "    ('ordinal_date', compose.FuncTransformer(get_ordinal_date)),\n",
        "    ('scale', preprocessing.StandardScaler()),\n",
        "    ('lin_reg', linear_model.LinearRegression(optimizer, loss))\n",
        ")\n"
      ]
    },
    {
      "cell_type": "markdown",
      "metadata": {
        "id": "paaDHYy7QeFp"
      },
      "source": [
        "In order to evaluate the model we'll write down a function. This function will take each sample one by one. It will perform a prior prediction and then update the model and error metric. Finally the predicted values will be plotted along with the actual values."
      ]
    },
    {
      "cell_type": "code",
      "execution_count": null,
      "metadata": {
        "id": "biEuyGMmQltm"
      },
      "outputs": [],
      "source": [
        "from river import metrics\n",
        "from river import stream\n",
        "import matplotlib.pyplot as plt\n",
        "from sklearn.metrics import mean_squared_error\n",
        "from sklearn.metrics import mean_absolute_percentage_error\n",
        "from sklearn.metrics import mean_absolute_error as mae\n",
        "import math \n",
        "from statistics import mean\n",
        "\n",
        "\n",
        "def evaluate_model(model, company_name, data_path): \n",
        "\n",
        "    metric = metrics.Rolling(metrics.MAE(), 12)\n",
        "\n",
        "    dates = []\n",
        "    y_trues = []\n",
        "    y_preds = []\n",
        "    metric_list = []\n",
        "    \n",
        "    \n",
        "    for x, y in stream.iter_csv(data_path,  target='next_close'):\n",
        "         #print(x,y)\n",
        "         date_list = x[\"Datetime\"].split(\"+\")\n",
        "          \n",
        "        # Update the er \n",
        "         date_time = datetime.strptime(date_list[0], '%Y-%m-%d %H:%M:%S')\n",
        "         #print(date_time.timestamp())\n",
        "         x[\"Datetime\"] =date_time.timestamp()\n",
        "         del x['Volume']\n",
        "         #x[\"High\"] = float(x[\"High\"])\n",
        "         #x[\"Low\"] = float(x[\"Low\"])\n",
        "         #x[\"Open\"] = float(x[\"Open\"])\n",
        "         x[\"Close\"] = float(x[\"Close\"])\n",
        "         x[\"vwap\"] = float(x[\"vwap\"])\n",
        "         x[\"ema\"]= float(x[\"ema\"])\n",
        "         prev_x=x\n",
        "         #x[\"rsi\"]= float(x[\"rsi\"])\n",
        "         y = float(y)\n",
        "         #print(type(x))\n",
        "         #prediction and update the model in one go\n",
        "         y_pred = model.predict_one(x)\n",
        "         x[\"next_close\"]=y_pred\n",
        "         if(y!=0):\n",
        "          model.learn_one(x, y)\n",
        "          # Obtain the prior predror metric\n",
        "          metric.update(y, y_pred)\n",
        "\n",
        "        # Store the date, true value, predicted value and metric value\n",
        "          dates.append(datetime.fromtimestamp(x['Datetime']))\n",
        "          \n",
        "          y_trues.append(y)\n",
        "          y_preds.append(y_pred)\n",
        "\n",
        "          metric_list.append(metric.get())\n",
        "         \n",
        "         prev_y_pred=y_pred\n",
        "         \n",
        "\n",
        "         \n",
        "    \n",
        "    \n",
        "    # Plot the results\n",
        "    print(y_trues)\n",
        "    print(y_preds)\n",
        "    #print(len(y_trues))\n",
        "    #print(len(y_preds))\n",
        "    print('Test MAPE:', mean_absolute_percentage_error( y_trues,y_preds))\n",
        "    print('Test RMSE:', np.sqrt(mean_squared_error(y_trues,y_preds)))\n",
        "    print('Test MAE:', mae(y_trues,y_preds))\n",
        "    fig, (ax0) = plt.subplots(nrows=1, ncols=1, figsize=(6, 4))\n",
        "    ax0.grid(alpha=0.95)\n",
        "    ax0.tick_params(labelsize=12)\n",
        "   \n",
        "    ax0.plot(dates, y_trues, lw=2, color='#2ecc71', alpha=1, label='Actual')\n",
        "    ax0.plot(dates, y_preds, lw=2, color='#e74c3c', alpha=1, label='Prediction')\n",
        "    ax0.legend()\n",
        "\n",
        "    ax0.set(title=\"{}\".format(company_name),#, Latest Mean Absolute Error (MAE): {:.3f}, metric.get()\n",
        "            xlabel=\"Date\",\n",
        "            ylabel=\"Closing Price\" )\n",
        "    for item in ([ax0.title, ax0.xaxis.label, ax0.yaxis.label]) :\n",
        "      item.set_fontsize(12)\n",
        "      item.set_fontweight('bold')\n",
        "      item.set_color('black')\n",
        "    \n",
        "    \n",
        "    return x\n",
        "   \n",
        "    \n",
        "    \n",
        "# Specifying data path\n",
        "reliance_data_path = \"/content/drive/MyDrive/Colab Notebooks/Project/reliance_data.csv\"\n",
        "hdfc_data_path = \"/content/drive/MyDrive/Colab Notebooks/Project/hdfc_data.csv\"\n",
        "tcs_data_path = \"/content/drive/MyDrive/Colab Notebooks/Project/tcs_data.csv\"\n",
        "HDFCBANK_data_path = \"/content/drive/MyDrive/Colab Notebooks/Project/HDFCBANK_data.csv\"\n",
        "LT_data_path = \"/content/drive/MyDrive/Colab Notebooks/Project/LT_data.csv\"\n",
        "INFY_data_path = \"/content/drive/MyDrive/Colab Notebooks/Project/INFY_data.csv\"\n",
        "KOTAKBANK_data_path = \"/content/drive/MyDrive/Colab Notebooks/Project/KOTAKBANK_data.csv\"\n",
        "ITC_data_path = \"/content/drive/MyDrive/Colab Notebooks/Project/ITC_data.csv\"\n",
        "SBIN_data_path = \"/content/drive/MyDrive/Colab Notebooks/Project/SBIN_data.csv\"\n",
        "ICICIBANK_data_path = \"/content/drive/MyDrive/Colab Notebooks/Project/ICICIBANK_data.csv\""
      ]
    },
    {
      "cell_type": "code",
      "execution_count": null,
      "metadata": {
        "id": "4MPmmNblTcgU"
      },
      "outputs": [],
      "source": [
        "#Let's evaluate our models.\n",
        "evaluate_model(model_1, \"RELIANCE\", reliance_data_path)"
      ]
    },
    {
      "cell_type": "code",
      "execution_count": null,
      "metadata": {
        "id": "t7-Bee3qO1Zw"
      },
      "outputs": [],
      "source": [
        "evaluate_model(model_2, \"HDFC\", hdfc_data_path)"
      ]
    },
    {
      "cell_type": "code",
      "execution_count": null,
      "metadata": {
        "id": "obi3CU6jS5-t"
      },
      "outputs": [],
      "source": [
        "evaluate_model(model_3, \"TCS\", tcs_data_path)"
      ]
    },
    {
      "cell_type": "code",
      "execution_count": null,
      "metadata": {
        "id": "glbefKLWaRcz"
      },
      "outputs": [],
      "source": [
        "evaluate_model(model_4, \"HDFCBANK\", HDFCBANK_data_path)"
      ]
    },
    {
      "cell_type": "code",
      "execution_count": null,
      "metadata": {
        "id": "RYPnJIiYagZu"
      },
      "outputs": [],
      "source": [
        "evaluate_model(model_5, \"LT\", LT_data_path)"
      ]
    },
    {
      "cell_type": "code",
      "execution_count": null,
      "metadata": {
        "id": "koGT4z3ta23E"
      },
      "outputs": [],
      "source": [
        "evaluate_model(model_6, \"INFY\", INFY_data_path)"
      ]
    },
    {
      "cell_type": "code",
      "execution_count": null,
      "metadata": {
        "id": "jRdCNAd87UZO"
      },
      "outputs": [],
      "source": [
        "evaluate_model(model_7, \"KOTAKBANK\", INFY_data_path)\n"
      ]
    },
    {
      "cell_type": "code",
      "execution_count": null,
      "metadata": {
        "id": "s8kA276HTlWl"
      },
      "outputs": [],
      "source": [
        "evaluate_model(model_8, \"ITC\", ITC_data_path)"
      ]
    },
    {
      "cell_type": "code",
      "execution_count": null,
      "metadata": {
        "id": "XnSk-PmdTe6_"
      },
      "outputs": [],
      "source": [
        "evaluate_model(model_9, \"SBIN\", SBIN_data_path)"
      ]
    },
    {
      "cell_type": "code",
      "source": [
        "evaluate_model(model_10, \"ICICIBANK\", ICICIBANK_data_path)"
      ],
      "metadata": {
        "id": "Gqy-tOvhCGfb"
      },
      "execution_count": null,
      "outputs": []
    },
    {
      "cell_type": "code",
      "execution_count": null,
      "metadata": {
        "id": "icDp5sIDG41Y"
      },
      "outputs": [],
      "source": [
        "import requests\n",
        "from bs4 import BeautifulSoup\n",
        "stockcode=\"RELIANCE\"\n",
        "stock_url  = 'https://www.nseindia.com/live_market/dynaContent/live_watch/get_quote/GetQuote.jsp?symbol='+str(stockcode)\n",
        "#print(stock_url)\n",
        "headers = {'user-agent':'Mozilla/5.0 (Windows NT 10.0; Win64; x64) AppleWebKit/537.36 (KHTML, like Gecko) Chrome/79.0.3945.117 Safari/537.36'}\n",
        "response = requests.get(stock_url, headers=headers)\n",
        "response\n",
        "soup = BeautifulSoup(response.text, 'html.parser')\n",
        "data_array = soup.find(id='responseDiv').getText().strip().split(\":\")\n",
        "type (data_array)\n",
        "#print(data_array)\n",
        "for item in data_array:\n",
        "    if 'lastPrice' in item:\n",
        "        index = data_array.index(item)+1\n",
        "        print(\"Close: \", end =\" \")\n",
        "        Close=data_array[index].split('\"')[1]\n",
        "        print(Close)\n",
        "    elif 'open' in item:\n",
        "        index = data_array.index(item)+1\n",
        "        print(\"Open: \", end =\" \")\n",
        "        Open=data_array[index].split('\"')[1]\n",
        "        print(Open)\n",
        "    elif 'dayLow' in item:\n",
        "        index = data_array.index(item)+1\n",
        "        print(\"Low: \", end =\" \")\n",
        "        Low=data_array[index].split('\"')[1]\n",
        "        print(Low)\n",
        "    elif 'dayHigh' in item:\n",
        "        index = data_array.index(item)+1\n",
        "        print(\"High: \", end =\" \")\n",
        "        High=data_array[index].split('\"')[1]\n",
        "        print(High)\n",
        "    elif 'averagePrice' in item:\n",
        "        index = data_array.index(item)+1\n",
        "        print(\"Vwap: \", end =\" \")\n",
        "        vwap=data_array[index].split('\"')[1]\n",
        "        print(vwap)"
      ]
    },
    {
      "cell_type": "code",
      "execution_count": null,
      "metadata": {
        "id": "uOvHTGv9HzaP"
      },
      "outputs": [],
      "source": [
        "from datetime import datetime;\n",
        "ct = datetime.now()\n",
        "print(\"current time:-\", ct)\n",
        "ts = ct.timestamp()\n",
        "print(\"timestamp:-\", ts)\n",
        "df=pd.read_csv(reliance_data_path, index_col=False)\n",
        "#print(df.head())\n",
        "metric = metrics.Rolling(metrics.MAE(), 12)\n",
        "metric.update(float(Close.replace(',', '')), df.iloc[-1:]['next_close'])\n",
        "#print(\"hello1  \",end=\" \")\n",
        "#print(metric.get())\n",
        "#print(\"hello2\")\n",
        "x=(df.iloc[-1:]).to_dict('list')\n",
        "print(x)\n",
        "print (type(x[\"Datetime\"][0]))\n",
        "date_list = x[\"Datetime\"][0].split(\"+\")\n",
        "y=date_list[0]#.split(\"    \")[1]\n",
        "c=Close.replace(',', '')\n",
        "c=float(c)\n",
        "#print(type(c))\n",
        "#print(y)\n",
        "print(x)\n",
        "date_time = datetime.strptime(y, '%Y-%m-%d %H:%M:%S')\n",
        "x[\"Datetime\"] =date_time.timestamp()\n",
        "del x[\"Volume\"]\n",
        "del x[\"next_close\"]\n",
        "x[\"High\"] = float(x[\"High\"][0])\n",
        "x[\"Low\"] = float(x[\"Low\"][0])\n",
        "x[\"Open\"] = float(x[\"Open\"][0])\n",
        "x[\"Close\"] = float(x[\"Close\"][0])\n",
        "x[\"vwap\"] = float(x[\"vwap\"][0])\n",
        "x[\"ema\"]= float(x[\"ema\"][0])\n",
        "#print(\"hello\")\n",
        "print(x)\n",
        "\n",
        "model_1.learn_one(x,c )\n",
        "df.iloc[-1:]['next_close']=float(x[\"Close\"])\n",
        "\n",
        "#print(type(Low))\n",
        "z={}\n",
        "z[\"Datetime\"] =float(ts)\n",
        "z[\"High\"] = float(High.replace(',', ''))\n",
        "z[\"Low\"] = float(Low.replace(',', ''))\n",
        "z[\"Open\"] =float(Open.replace(',', ''))\n",
        "z[\"Close\"]= float(Close.replace(',', ''))\n",
        "z[\"vwap\"]= float(vwap.replace(',', ''))\n",
        "ema=calculate_ema(df_reliance.iloc[-10:]['Close'], 10)\n",
        "#print('Hello')\n",
        "z[\"ema\"]=float(ema[0])\n",
        "#new = pd.DataFrame.from_dict(x)\n",
        "y_pred = model_1.predict_one(z)\n",
        "print(y_pred)\n",
        "z[\"Datetime\"] =datetime.fromtimestamp(ts)\n",
        "z[\"Volume\"]=0\n",
        "z[\"next_close\"]=0\n",
        "df = df.append(z, ignore_index = True)\n",
        "print(df)\n",
        "#df.to_csv(reliance_data_path, index=False)"
      ]
    }
  ],
  "metadata": {
    "colab": {
      "collapsed_sections": [],
      "name": "Multivariate Incremental Learning with Technical Indicators.ipynb",
      "provenance": []
    },
    "kernelspec": {
      "display_name": "Python 3",
      "name": "python3"
    },
    "language_info": {
      "name": "python"
    }
  },
  "nbformat": 4,
  "nbformat_minor": 0
}